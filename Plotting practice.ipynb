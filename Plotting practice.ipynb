{
 "cells": [
  {
   "cell_type": "code",
   "execution_count": 2,
   "metadata": {},
   "outputs": [
    {
     "name": "stdin",
     "output_type": "stream",
     "text": [
      "Enter the name of your data file (case sensitive):  Data.csv\n"
     ]
    }
   ],
   "source": [
    "file_name = input('Enter the name of your data file (case sensitive): ')"
   ]
  },
  {
   "cell_type": "code",
   "execution_count": 9,
   "metadata": {
    "scrolled": true
   },
   "outputs": [
    {
     "data": {
      "text/html": [
       "\n",
       "<style>\n",
       "    div#notebook-container    { width: 95%; }\n",
       "    div#menubar-container     { width: 65%; }\n",
       "    div#maintoolbar-container { width: 99%; }\n",
       "</style>\n"
      ],
      "text/plain": [
       "<IPython.core.display.HTML object>"
      ]
     },
     "metadata": {},
     "output_type": "display_data"
    },
    {
     "name": "stdout",
     "output_type": "stream",
     "text": [
      "<class 'pandas.core.frame.DataFrame'>\n",
      "<class 'numpy.ndarray'>\n"
     ]
    },
    {
     "data": {
      "image/png": "[encoded data removed]",
      "text/plain": [
       "<Figure size 360x216 with 1 Axes>"
      ]
     },
     "metadata": {
      "needs_background": "light"
     },
     "output_type": "display_data"
    }
   ],
   "source": [
    "# to be deployed on https://mybinder.org/ or similar service\n",
    "\n",
    "from matplotlib import pyplot as plt\n",
    "import pandas as pd\n",
    "import numpy as np\n",
    "import watermark\n",
    "\n",
    "'''\n",
    "import math\n",
    "import statistics\n",
    "import random\n",
    "import decimal\n",
    "import fractions\n",
    "'''\n",
    "\n",
    "from IPython.display import display, HTML\n",
    "\n",
    "display(HTML(data=\"\"\"\n",
    "<style>\n",
    "    div#notebook-container    { width: 95%; }\n",
    "    div#menubar-container     { width: 65%; }\n",
    "    div#maintoolbar-container { width: 99%; }\n",
    "</style>\n",
    "\"\"\"))\n",
    "\n",
    "# File not found error\n",
    "try \n",
    "    \n",
    "except\n",
    "\n",
    "\n",
    "#multiple data type options\n",
    "sample_dataFrame = pd.read_csv(file_name)\n",
    "sample_dataArray = np.array(sample_dataFrame)\n",
    "print(type(sample_dataFrame))\n",
    "print(type(sample_dataArray))\n",
    "\n",
    "\n",
    "\n",
    "\n",
    "x = [1,3,2]\n",
    "y = sample_dataFrame.col2 # todo figure out how to make the collumn name 'col2' a variable\n",
    "z = sample_dataArray[:,2]\n",
    "index = np.arange(y.size) # This wasn't needed for plotting after all.\n",
    "\n",
    "\n",
    "\n",
    "plt.figure(figsize=(5,3))\n",
    "plt.plot(x,'o')            # Format circls\n",
    "plt.plot(y,'s:')           # Format Squares with doted line\n",
    "plt.plot(z,'-o')           # Format line with circles\n",
    "plt.title(r'Title with Latex $\\int_a^b f(x)dx$') #raw string, with Latex\n",
    "plt.xlabel('X axis')\n",
    "plt.ylabel('Y axis')\n",
    "plt.legend(['X','Y','Z'],loc = 4) #legend w/ location change\n",
    "plt.show()"
   ]
  },
  {
   "cell_type": "code",
   "execution_count": 122,
   "metadata": {},
   "outputs": [
    {
     "name": "stdout",
     "output_type": "stream",
     "text": [
      "\n",
      "LOOK AT ME, I'M A STRING!\n",
      "I can be anything!\n",
      "\n",
      "(Me 2)\n"
     ]
    }
   ],
   "source": [
    "print() #floats\n",
    "\n",
    "string1 = 'look at me, I\\'m a string'\n",
    "string2 = string1.upper() + '!'\n",
    "string3 = 'anything'\n",
    "\n",
    "float1 = 2.163\n",
    "\n",
    "print(string2)\n",
    "print(f'I can be {string3}!')\n",
    "print(f'\\n(Me {float1:.0f})')\n"
   ]
  },
  {
   "cell_type": "code",
   "execution_count": 10,
   "metadata": {},
   "outputs": [
    {
     "name": "stdout",
     "output_type": "stream",
     "text": [
      "CPython 3.7.6\n",
      "IPython 7.12.0\n",
      "\n",
      "matplotlib 3.1.3\n",
      "pandas 1.0.1\n",
      "numpy 1.18.1\n",
      "watermark 2.0.2\n",
      "\n",
      "compiler   : MSC v.1916 64 bit (AMD64)\n",
      "system     : Windows\n",
      "release    : 10\n",
      "machine    : AMD64\n",
      "processor  : Intel64 Family 6 Model 142 Stepping 9, GenuineIntel\n",
      "CPU cores  : 4\n",
      "interpreter: 64bit\n",
      " \n",
      "last updated: Wed Jun 10 2020 14:54:18 Eastern Daylight Time\n"
     ]
    }
   ],
   "source": [
    "#Generate environment details needed to use binder \n",
    "%load_ext watermark\n",
    "\n",
    "# python, ipython, packages, and machine characteristics\n",
    "%watermark -v -m -p matplotlib,pandas,numpy,watermark\n",
    "\n",
    "# date\n",
    "print (\" \")\n",
    "%watermark -u -n -t -z"
   ]
  }
 ],
 "metadata": {
  "kernelspec": {
   "display_name": "Python 3",
   "language": "python",
   "name": "python3"
  },
  "language_info": {
   "codemirror_mode": {
    "name": "ipython",
    "version": 3
   },
   "file_extension": ".py",
   "mimetype": "text/x-python",
   "name": "python",
   "nbconvert_exporter": "python",
   "pygments_lexer": "ipython3",
   "version": "3.7.6"
  }
 },
 "nbformat": 4,
 "nbformat_minor": 4
}
